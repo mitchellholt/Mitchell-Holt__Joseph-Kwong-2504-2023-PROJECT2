{
 "cells": [
  {
   "cell_type": "markdown",
   "metadata": {},
   "source": [
    "# Project 2 - 2023\n",
    "### Mitchell Holt (46977557), Joseph Kwong (46977164)\n",
    "\n",
    "All code may be found on the GitHub repository [here](https://github.com/mitchellholt/Mitchell-Holt__Joseph-Kwong-2504-2023-PROJECT2)"
   ]
  },
  {
   "cell_type": "markdown",
   "metadata": {},
   "source": [
    "# Question 1\n",
    "\n",
    "We make the following assumptions:\n",
    "- epic\n",
    "\n",
    "Furthermore, the following assumptions for the simulation, implicit or explicit, are unreasonable in the context of simulating\n",
    "queues at a theme park:\n",
    "- todo"
   ]
  }
 ],
 "metadata": {
  "kernelspec": {
   "display_name": "Julia 1.8.1",
   "language": "julia",
   "name": "julia-1.8"
  },
  "language_info": {
   "file_extension": ".jl",
   "mimetype": "application/julia",
   "name": "julia",
   "version": "1.8.1"
  }
 },
 "nbformat": 4,
 "nbformat_minor": 4
}
