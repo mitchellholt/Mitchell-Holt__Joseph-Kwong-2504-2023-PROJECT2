{
 "cells": [
  {
   "cell_type": "markdown",
   "metadata": {},
   "source": [
    "# Project 2 - 2023\n",
    "### Mitchell Holt (46977557), Joseph Kwong (46977164)\n",
    "\n",
    "All code may be found on the GitHub repository [here](https://github.com/mitchellholt/Mitchell-Holt__Joseph-Kwong-2504-2023-PROJECT2)"
   ]
  },
  {
   "cell_type": "markdown",
   "metadata": {},
   "source": [
    "# Perspective Seminar\n",
    "\n",
    "The writeup should address the following questions:\n",
    "\n",
    "### What was Anna's career path, and her relationship with software and mathematics?\n",
    "\n",
    "Anna studied pure mathematics, and earned a PhD in analysis working with regularity theory and the Heisenberg group.\n",
    "Anna moved from Germany to Australia soon after finishing her PhD and started working at The Simulation Group in\n",
    "Brisbane. After the company was bought out by consultants, Anna moved to Integrated Logistics\n",
    "\n",
    "It is hard to describe systems in closed forms, even harder to solve these equations. Simulation is a way to model\n",
    "real-world systems and make observations, predictions and decisions that is often far more cost- and time-efficient\n",
    "than exact methods.\n",
    "\n",
    "### Where does she currently work? What does she do in her job? How do you perceive her personal experience from her job?\n",
    "\n",
    "Anna currently works in the mining sector with making shipping\n",
    "\n",
    "### Discuss a few key tools that she spoke about during the talk, such as programming languages, mathematics, machine learning, statistical tools, simulation platforms, and the like. Was this the first time that you heard about any of these tools?\n",
    "\n",
    "Simulation package AnyLogic. The Simulation Group used to sell their software in Australia, now Anna does.\n",
    "I had never heard of any packages for the express purpose of simulation before, but I have heard that such\n",
    "packages do exist. Often simulation packages with have a domain-specific language to express more complex\n",
    "rules in simulations.\n",
    "\n",
    "\n",
    "\n",
    "### Have you picked up any tips from Anna's talk, which you can perhaps use in your career down the road?"
   ]
  },
  {
   "cell_type": "markdown",
   "metadata": {},
   "source": [
    "# Question 1\n",
    "\n",
    "We make the following assumptions:\n",
    "- The simulation reaches a steady state before the end of warm-up time, for any warm-up time.\n",
    "- For task 5, we assume that there are no breakdowns.\n",
    "\n",
    "Furthermore, the following assumptions for the simulation, implicit or explicit, are unreasonable in the context of simulating\n",
    "queues at a theme park:\n",
    "- Only one person is served at any one time at a given station. Realistically, we would expect that either\n",
    "  1. multiple people are served at the same time by a single server (e.g. a rollercoaster), or\n",
    "  2. there is more than one server at the station (e.g. a fast food stand).\n",
    "- Arrival rates are uniformly distributed independently to time. We would expect that the arrival rates for queues (how busy\n",
    "  the theme park is) depends on the time of day.\n",
    "- People *only* leave the queue once they have been served. We would expect that people could give up on a queue at any time,\n",
    "  decreasing the queue length independently of the server.\n",
    "- We have assumed that the rate of arrivals to a queue is independent of its length. However, we would expect that arrival rates\n",
    "  for longer queues are lower than those for shorter queues.\n",
    "- When we are keeping track of how long individual customers have spent in queues, we additionally need to assume that\n",
    "  no customers switch positions in the queue. "
   ]
  },
  {
   "cell_type": "code",
   "execution_count": null,
   "metadata": {},
   "outputs": [],
   "source": []
  }
 ],
 "metadata": {
  "kernelspec": {
   "display_name": "Julia 1.8.1",
   "language": "julia",
   "name": "julia-1.8"
  },
  "language_info": {
   "file_extension": ".jl",
   "mimetype": "application/julia",
   "name": "julia",
   "version": "1.8.1"
  }
 },
 "nbformat": 4,
 "nbformat_minor": 4
}
