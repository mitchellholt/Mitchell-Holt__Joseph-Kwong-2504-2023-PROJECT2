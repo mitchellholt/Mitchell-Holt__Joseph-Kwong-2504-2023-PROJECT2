{
 "cells": [
  {
   "cell_type": "markdown",
   "metadata": {},
   "source": [
    "# Project 2 - 2023\n",
    "### Mitchell Holt (46977557), Joseph Kwong (46977164)\n",
    "\n",
    "All code may be found on the GitHub repository [here](https://github.com/mitchellholt/Mitchell-Holt__Joseph-Kwong-2504-2023-PROJECT2)"
   ]
  },
  {
   "cell_type": "markdown",
   "metadata": {},
   "source": [
    "# Question 1\n",
    "\n",
    "We make the following assumptions:\n",
    "- The simulation reaches a steady state before the end of warm-up time, for any warm-up time.\n",
    "\n",
    "Furthermore, the following assumptions for the simulation, implicit or explicit, are unreasonable in the context of simulating\n",
    "queues at a theme park:\n",
    "- Only one person is served at any one time at a given station. Realistically, we would expect that either\n",
    "  1. multiple people are served at the same time by a single server (e.g. a rollercoaster), or\n",
    "  2. there is more than one server at the station (e.g. a fast food stand).\n",
    "- Arrival rates are uniformly distributed independently to time. We would expect that the arrival rates for queues (how busy\n",
    "  the theme park is) depends on the time of day.\n",
    "- People *only* leave the queue once they have been served. We would expect that people could give up on a queue at any time,\n",
    "  decreasing the queue length independently of the server.\n",
    "- We have assumed that the rate of arrivals to a queue is independent of its length. However, we would expect that arrival rates\n",
    "  for longer queues are lower than those for shorter queues."
   ]
  }
 ],
 "metadata": {
  "kernelspec": {
   "display_name": "Julia 1.8.1",
   "language": "julia",
   "name": "julia-1.8"
  },
  "language_info": {
   "file_extension": ".jl",
   "mimetype": "application/julia",
   "name": "julia",
   "version": "1.8.1"
  }
 },
 "nbformat": 4,
 "nbformat_minor": 4
}
